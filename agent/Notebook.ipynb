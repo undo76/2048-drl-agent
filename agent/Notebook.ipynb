{
 "cells": [
  {
   "cell_type": "markdown",
   "metadata": {},
   "source": [
    "## Training of the DQN agent\n",
    "\n",
    "### 1. Import required libraries"
   ]
  },
  {
   "cell_type": "code",
   "execution_count": 1,
   "metadata": {},
   "outputs": [],
   "source": [
    "from collections import deque\n",
    "\n",
    "import numpy as np\n",
    "import random\n",
    "import torch\n",
    "import requests\n",
    "from matplotlib import pyplot as plt\n",
    "from dqn_agent import Agent\n",
    "from model import QNetwork\n",
    "\n",
    "%matplotlib inline"
   ]
  },
  {
   "cell_type": "markdown",
   "metadata": {},
   "source": [
    "### 2. Examine the State and Action Spaces"
   ]
  },
  {
   "cell_type": "code",
   "execution_count": 2,
   "metadata": {},
   "outputs": [
    {
     "name": "stdout",
     "output_type": "stream",
     "text": [
      "[[{'id': 151431, 'value': 4}, {'id': 151439, 'value': 2}, {'id': 151432, 'value': 8}, {'id': 151443, 'value': 2}], [{'id': 151434, 'value': 2}, {'id': 151366, 'value': 64}, {'id': 151405, 'value': 16}, {'id': 151438, 'value': 8}], [{'id': 151441, 'value': 8}, {'id': 151390, 'value': 32}, {'id': 151442, 'value': 2}, {'id': 151445, 'value': 4}], [{'id': 151420, 'value': 16}, {'id': 151440, 'value': 2}, {'id': 151428, 'value': 8}, {'id': 151447, 'value': 2}]] NA 588 True 4 False\n"
     ]
    }
   ],
   "source": [
    "state = requests.get(\"http://localhost:8881/state\").json()\n",
    "print(state['board'], state['humanBoard'], state['score'], state['done'], state['deltaScore'], state['invalid'])"
   ]
  },
  {
   "cell_type": "code",
   "execution_count": 3,
   "metadata": {},
   "outputs": [],
   "source": [
    "\n",
    "def _board_to_numpy( board):\n",
    "    a1 = np.array([[e['value'] if e is not None else 1 for e in r] for r in board])\n",
    "    return np.vstack([a1 ==2**i for i in range(16)]) * 2 - 1\n",
    "    # return np.array([[e['value'] if e is not None else 0 for e in r] for r in board])\n",
    "\n",
    "class Env:\n",
    "\n",
    "    ACTIONS = ['UP', 'RIGHT', 'DOWN', 'LEFT']\n",
    "\n",
    "    def __init__(self, protocol=\"http\", host=\"localhost\", port=8881):\n",
    "        self.url = f\"{protocol}://{host}:{port}\"\n",
    "        self.json = None\n",
    "    \n",
    "    def reset(self):\n",
    "        self.json = requests.put(f\"{self.url}/reset\").json()\n",
    "    \n",
    "    def step(self, action: int):\n",
    "        self.json = requests.put(f\"{self.url}/action\", data=Env.ACTIONS[action]).json()\n",
    "    \n",
    "    @property\n",
    "    def state(self):\n",
    "        return _board_to_numpy(self.json['board'])\n",
    "    \n",
    "    @property\n",
    "    def reward(self):\n",
    "        # Penalize forbidden moves\n",
    "        if self.invalid:\n",
    "            return -10.0\n",
    "        else:\n",
    "            return np.log2(self.json['deltaScore'] + 1)\n",
    "\n",
    "    @property\n",
    "    def done(self):\n",
    "        return self.json['done']\n",
    "    \n",
    "    @property\n",
    "    def score(self):\n",
    "        return self.json['score']\n",
    "    \n",
    "    @property\n",
    "    def invalid(self):\n",
    "        return self.json['invalid']\n",
    "    \n",
    "    @property\n",
    "    def human(self):\n",
    "        return self.json['humanBoard']"
   ]
  },
  {
   "cell_type": "code",
   "execution_count": 4,
   "metadata": {},
   "outputs": [
    {
     "name": "stdout",
     "output_type": "stream",
     "text": [
      "[-1 -1 -1 -1 -1 -1 -1 -1 -1 -1 -1 -1 -1 -1 -1 -1 -1  1 -1  1 -1 -1 -1 -1\n",
      " -1 -1 -1 -1  1 -1 -1  1  1 -1 -1 -1 -1 -1 -1  1  1 -1 -1 -1 -1 -1  1 -1\n",
      " -1 -1  1 -1  1 -1 -1 -1 -1 -1 -1  1 -1  1 -1 -1 -1 -1 -1 -1 -1  1 -1 -1\n",
      " -1 -1  1 -1 -1 -1 -1 -1 -1 -1 -1 -1 -1 -1  1 -1 -1 -1 -1 -1 -1 -1 -1 -1\n",
      " -1 -1 -1 -1 -1 -1 -1 -1 -1  1 -1 -1 -1 -1 -1 -1 -1 -1 -1 -1 -1 -1 -1 -1\n",
      " -1 -1 -1 -1 -1 -1 -1 -1 -1 -1 -1 -1 -1 -1 -1 -1 -1 -1 -1 -1 -1 -1 -1 -1\n",
      " -1 -1 -1 -1 -1 -1 -1 -1 -1 -1 -1 -1 -1 -1 -1 -1 -1 -1 -1 -1 -1 -1 -1 -1\n",
      " -1 -1 -1 -1 -1 -1 -1 -1 -1 -1 -1 -1 -1 -1 -1 -1 -1 -1 -1 -1 -1 -1 -1 -1\n",
      " -1 -1 -1 -1 -1 -1 -1 -1 -1 -1 -1 -1 -1 -1 -1 -1 -1 -1 -1 -1 -1 -1 -1 -1\n",
      " -1 -1 -1 -1 -1 -1 -1 -1 -1 -1 -1 -1 -1 -1 -1 -1 -1 -1 -1 -1 -1 -1 -1 -1\n",
      " -1 -1 -1 -1 -1 -1 -1 -1 -1 -1 -1 -1 -1 -1 -1 -1]\n"
     ]
    }
   ],
   "source": [
    "env = Env()\n",
    "env.reset()\n",
    "for action in random.choices(np.arange(4), k=1000):\n",
    "    env.step(action)\n",
    "print(env.state.flatten())"
   ]
  },
  {
   "cell_type": "markdown",
   "metadata": {},
   "source": [
    "### 3. Training function\n",
    "\n",
    "This is the definition of the training function we use to train our DQN network. It uses $\\varepsilon$*-greedy* policy with decay."
   ]
  },
  {
   "cell_type": "code",
   "execution_count": 5,
   "metadata": {
    "pycharm": {
     "name": "#%%\n"
    }
   },
   "outputs": [],
   "source": [
    "def dqn(env, agent, n_episodes=1000, max_t=10000, eps_start=1.0, eps_end=0.01, eps_decay=0.995):\n",
    "    \"\"\"Deep Q-Learning.\n",
    "\n",
    "    Params\n",
    "    ======\n",
    "        n_episodes (int): maximum number of training episodes\n",
    "        max_t (int): maximum number of timesteps per episode\n",
    "        eps_start (float): starting value of epsilon, for epsilon-greedy action selection\n",
    "        eps_end (float): minimum value of epsilon\n",
    "        eps_decay (float): multiplicative factor (per episode) for decreasing epsilon\n",
    "    \"\"\"\n",
    "    scores = []                        # list containing scores from each episode\n",
    "    scores_window = deque(maxlen=100)  # last 100 scores\n",
    "    eps = eps_start                    # initialize epsilon\n",
    "    \n",
    "    for i_episode in range(1, n_episodes+1):\n",
    "        env.reset() # reset the environment\n",
    "        state = env.state.flatten()        # get the current state\n",
    "        score = 0\n",
    "        t = 0\n",
    "        for t in range(max_t):\n",
    "            action = agent.act(state, eps)\n",
    "            env.step(action)        # send the action to the environment\n",
    "            next_state = env.state.flatten()   # get the next state\n",
    "            reward = env.reward                   # get the reward\n",
    "            done = env.done\n",
    "            agent.step(state, action, reward, next_state, done)\n",
    "            state = next_state\n",
    "            score += reward\n",
    "            if done:\n",
    "                break\n",
    "        scores_window.append(score)       # save most recent score\n",
    "        scores.append(score)              # save most recent score\n",
    "        eps = max(eps_end, eps_decay*eps) # decrease epsilon\n",
    "        print('\\rEpisode {}\\tScore: {}/{:.2f}\\tAverage Score: {:.2f}\\teps: {:.2f}\\tstp: {}  '.format(\n",
    "            i_episode, env.score, score, np.mean(scores_window), eps, t), end=\"\")\n",
    "    return scores"
   ]
  },
  {
   "cell_type": "markdown",
   "metadata": {},
   "source": [
    "### 4. Launch training and save the DQN parameters\n",
    "\n",
    "The following code launches an environment and executes the training of the agent. It will take several minutes to finish, be patient!"
   ]
  },
  {
   "cell_type": "code",
   "execution_count": 6,
   "metadata": {
    "pycharm": {
     "name": "#%%\n"
    },
    "scrolled": true
   },
   "outputs": [
    {
     "name": "stdout",
     "output_type": "stream",
     "text": [
      "Episode 1000\tScore: 820/159.42\tAverage Score: 115.52\teps: 0.00\tstp: 77    "
     ]
    }
   ],
   "source": [
    "# Get state and action information about the environment\n",
    "env.reset()\n",
    "state = env.state.flatten()\n",
    "\n",
    "# Create an agent\n",
    "agent = Agent(QNetwork, len(state), len(Env.ACTIONS), seed=42)\n",
    "\n",
    "# Execute training\n",
    "scores = dqn(env, agent, n_episodes=1000, eps_decay=0.97, eps_end=0.001)\n",
    "\n",
    "# Save trained parameters\n",
    "torch.save(agent.qnetwork_local.state_dict(), 'checkpoint.pth')"
   ]
  },
  {
   "cell_type": "markdown",
   "metadata": {},
   "source": [
    "### 5. Show training progress results\n",
    "\n",
    "We can see that the agent has learnt the task early and that the average score is higher than the goal of 13. "
   ]
  },
  {
   "cell_type": "code",
   "execution_count": 7,
   "metadata": {
    "pycharm": {
     "name": "#%%\n"
    },
    "scrolled": true
   },
   "outputs": [
    {
     "data": {
      "text/plain": "<Figure size 432x288 with 1 Axes>",
      "image/png": "[encoded data removed]"
     },
     "metadata": {
      "needs_background": "light"
     },
     "output_type": "display_data"
    }
   ],
   "source": [
    "# plot the scores\n",
    "fig = plt.figure()\n",
    "ax = fig.add_subplot(111)\n",
    "plt.plot(np.arange(len(scores)), scores)\n",
    "plt.ylabel('Score')\n",
    "plt.xlabel('Episode #')\n",
    "plt.show()"
   ]
  },
  {
   "cell_type": "markdown",
   "metadata": {},
   "source": [
    "### 6. Execute an episode with the trained agent\n",
    "\n",
    "The following code shows an episode of the trained agent interacting with the environment at normal speed (`train_mode=False`)."
   ]
  },
  {
   "cell_type": "code",
   "execution_count": 8,
   "metadata": {
    "scrolled": false
   },
   "outputs": [
    {
     "ename": "AttributeError",
     "evalue": "'Env' object has no attribute 'brain_names'",
     "output_type": "error",
     "traceback": [
      "\u001B[0;31m---------------------------------------------------------------------------\u001B[0m",
      "\u001B[0;31mAttributeError\u001B[0m                            Traceback (most recent call last)",
      "\u001B[0;32m<ipython-input-8-78a4085c500b>\u001B[0m in \u001B[0;36m<module>\u001B[0;34m\u001B[0m\n\u001B[0;32m----> 1\u001B[0;31m \u001B[0mbrain_name\u001B[0m \u001B[0;34m=\u001B[0m \u001B[0menv\u001B[0m\u001B[0;34m.\u001B[0m\u001B[0mbrain_names\u001B[0m\u001B[0;34m[\u001B[0m\u001B[0;36m0\u001B[0m\u001B[0;34m]\u001B[0m\u001B[0;34m\u001B[0m\u001B[0;34m\u001B[0m\u001B[0m\n\u001B[0m\u001B[1;32m      2\u001B[0m \u001B[0mbrain\u001B[0m \u001B[0;34m=\u001B[0m \u001B[0menv\u001B[0m\u001B[0;34m.\u001B[0m\u001B[0mbrains\u001B[0m\u001B[0;34m[\u001B[0m\u001B[0mbrain_name\u001B[0m\u001B[0;34m]\u001B[0m\u001B[0;34m\u001B[0m\u001B[0;34m\u001B[0m\u001B[0m\n\u001B[1;32m      3\u001B[0m \u001B[0menv_info\u001B[0m \u001B[0;34m=\u001B[0m \u001B[0menv\u001B[0m\u001B[0;34m.\u001B[0m\u001B[0mreset\u001B[0m\u001B[0;34m(\u001B[0m\u001B[0mtrain_mode\u001B[0m\u001B[0;34m=\u001B[0m\u001B[0;32mFalse\u001B[0m\u001B[0;34m)\u001B[0m\u001B[0;34m[\u001B[0m\u001B[0mbrain_name\u001B[0m\u001B[0;34m]\u001B[0m \u001B[0;31m# reset the environment\u001B[0m\u001B[0;34m\u001B[0m\u001B[0;34m\u001B[0m\u001B[0m\n\u001B[1;32m      4\u001B[0m \u001B[0mstate\u001B[0m \u001B[0;34m=\u001B[0m \u001B[0menv_info\u001B[0m\u001B[0;34m.\u001B[0m\u001B[0mvector_observations\u001B[0m\u001B[0;34m[\u001B[0m\u001B[0;36m0\u001B[0m\u001B[0;34m]\u001B[0m            \u001B[0;31m# get the current state\u001B[0m\u001B[0;34m\u001B[0m\u001B[0;34m\u001B[0m\u001B[0m\n\u001B[1;32m      5\u001B[0m \u001B[0mscore\u001B[0m \u001B[0;34m=\u001B[0m \u001B[0;36m0\u001B[0m                                          \u001B[0;31m# initialize the score\u001B[0m\u001B[0;34m\u001B[0m\u001B[0;34m\u001B[0m\u001B[0m\n",
      "\u001B[0;31mAttributeError\u001B[0m: 'Env' object has no attribute 'brain_names'"
     ]
    }
   ],
   "source": [
    "brain_name = env.brain_names[0]\n",
    "brain = env.brains[brain_name]\n",
    "env_info = env.reset(train_mode=False)[brain_name] # reset the environment\n",
    "state = env_info.vector_observations[0]            # get the current state\n",
    "score = 0                                          # initialize the score\n",
    "\n",
    "# Create agent\n",
    "agent = Agent(QNetwork, len(state), brain.vector_action_space_size, seed=42)\n",
    "\n",
    "# Load stored parameters\n",
    "agent.qnetwork_local.load_state_dict(torch.load('checkpoint.pth'))\n",
    "\n",
    "while True:\n",
    "    action = agent.act(state)                      # select an action\n",
    "    env_info = env.step(action)[brain_name]        # send the action to the environment\n",
    "    next_state = env_info.vector_observations[0]   # get the next state\n",
    "    reward = env_info.rewards[0]                   # get the reward\n",
    "    done = env_info.local_done[0]                  # see if episode has finished\n",
    "    score += reward                                # update the score\n",
    "    state = next_state                             # roll over the state to next time step\n",
    "    if done:                                       # exit loop if episode finished\n",
    "        break\n",
    "    \n",
    "print(\"Score: {}\".format(score))"
   ]
  },
  {
   "cell_type": "markdown",
   "metadata": {},
   "source": [
    "### 7. Video of the agent in action"
   ]
  },
  {
   "cell_type": "code",
   "execution_count": null,
   "metadata": {},
   "outputs": [],
   "source": [
    "from IPython.lib.display import YouTubeVideo\n",
    "YouTubeVideo('5kDRF2EdKRc')"
   ]
  },
  {
   "cell_type": "code",
   "execution_count": null,
   "metadata": {},
   "outputs": [],
   "source": [
    "env.close()"
   ]
  }
 ],
 "metadata": {
  "kernelspec": {
   "display_name": "Python 3",
   "language": "python",
   "name": "python3"
  },
  "language_info": {
   "codemirror_mode": {
    "name": "ipython",
    "version": 3
   },
   "file_extension": ".py",
   "mimetype": "text/x-python",
   "name": "python",
   "nbconvert_exporter": "python",
   "pygments_lexer": "ipython3",
   "version": "3.9.1"
  }
 },
 "nbformat": 4,
 "nbformat_minor": 2
}